{
 "cells": [
  {
   "cell_type": "code",
   "execution_count": 1,
   "id": "c5993f1c-d469-42b7-aa6f-8c505232f599",
   "metadata": {},
   "outputs": [],
   "source": [
    "import os\n",
    "import base64\n",
    "import json\n",
    "import csv\n",
    "\n",
    "from google.auth.transport.requests import Request\n",
    "from google.oauth2.credentials import Credentials\n",
    "from google_auth_oauthlib.flow import InstalledAppFlow\n",
    "from googleapiclient.discovery import build\n",
    "from bs4 import BeautifulSoup"
   ]
  },
  {
   "cell_type": "code",
   "execution_count": 3,
   "id": "5074bd2e-96a7-44de-a154-b98ffe1fbde6",
   "metadata": {},
   "outputs": [],
   "source": [
    "SCOPES = ['https://www.googleapis.com/auth/gmail.readonly']\n",
    "\n",
    "def get_gmail_service():\n",
    "    creds = None\n",
    "    # token.json stores your access/refresh tokens\n",
    "    if os.path.exists('token.json'):\n",
    "        creds = Credentials.from_authorized_user_file('token.json', SCOPES)\n",
    "    # If no valid creds, run the OAuth flow\n",
    "    if not creds or not creds.valid:\n",
    "        if creds and creds.expired and creds.refresh_token:\n",
    "            creds.refresh(Request())\n",
    "        else:\n",
    "            flow = InstalledAppFlow.from_client_secrets_file('credentials.json', SCOPES)\n",
    "            creds = flow.run_local_server(port=0)\n",
    "        # Save for next time\n",
    "        with open('token.json', 'w') as token:\n",
    "            token.write(creds.to_json())\n",
    "    return build('gmail', 'v1', credentials=creds)\n",
    "\n",
    "service = get_gmail_service()"
   ]
  },
  {
   "cell_type": "code",
   "execution_count": 5,
   "id": "3d45e090-2ae9-4c3c-a9d5-4b153e809b7b",
   "metadata": {},
   "outputs": [],
   "source": [
    "def list_message_ids(max_results=200):\n",
    "    resp = service.users().messages().list(userId='me', maxResults=max_results).execute()\n",
    "    return [m['id'] for m in resp.get('messages', [])]\n",
    "\n",
    "def fetch_raw_html(msg_id):\n",
    "    msg = service.users().messages().get(userId='me', id=msg_id, format='full').execute()\n",
    "    payload = msg.get('payload', {})\n",
    "    # Prefer the text/html part\n",
    "    for part in payload.get('parts', []):\n",
    "        if part.get('mimeType') == 'text/html':\n",
    "            data = part.get('body', {}).get('data')\n",
    "            if data:\n",
    "                return base64.urlsafe_b64decode(data).decode('utf-8')\n",
    "    # Fallback to top-level body\n",
    "    data = payload.get('body', {}).get('data')\n",
    "    return base64.urlsafe_b64decode(data).decode('utf-8') if data else ''\n",
    "\n",
    "def html_to_text(html):\n",
    "    soup = BeautifulSoup(html, \"html.parser\")\n",
    "    body = soup.body or soup\n",
    "    text = body.get_text(separator=\"\\n\")\n",
    "    lines = [ln.strip() for ln in text.splitlines()]\n",
    "    return \"\\n\".join([ln for ln in lines if ln])\n",
    "\n",
    "def fetch_and_clean_text(msg_id):\n",
    "    html = fetch_raw_html(msg_id)\n",
    "    return html_to_text(html)"
   ]
  },
  {
   "cell_type": "code",
   "execution_count": 7,
   "id": "094f22ac-9ec2-44a6-bc05-21f6c1f2eacd",
   "metadata": {},
   "outputs": [
    {
     "name": "stdout",
     "output_type": "stream",
     "text": [
      "✅ Exported raw_emails.csv — add your `label` column next\n"
     ]
    }
   ],
   "source": [
    "message_ids = list_message_ids(200)  # adjust as needed\n",
    "with open('raw_emails.csv', 'w', newline='', encoding='utf-8') as csvfile:\n",
    "    writer = csv.writer(csvfile)\n",
    "    writer.writerow(['id', 'text'])\n",
    "    for msg_id in message_ids:\n",
    "        txt = fetch_and_clean_text(msg_id).replace('\\n', ' ').strip()\n",
    "        writer.writerow([msg_id, txt])\n",
    "print(\"Exported raw_emails.csv\")"
   ]
  },
  {
   "cell_type": "code",
   "execution_count": 9,
   "id": "1c891b45-791f-4132-a832-5031d65617c4",
   "metadata": {},
   "outputs": [
    {
     "name": "stdout",
     "output_type": "stream",
     "text": [
      "Generated train.jsonl\n"
     ]
    }
   ],
   "source": [
    "prompt = f\"\"\"Categorize the email below into exactly one of the following categories:\n",
    "\n",
    "Internship — only if it contains an update about the status of my internship applications (e.g., interview invitations, rejections, offers). Application confirmation or acknowledgment emails such as \"Thank you for applying\", \"Thank you for your interest\", \"Thank you for your application\", or \"Your application is under review\" is considered Irrelevant.\n",
    "\n",
    "Canvas — only if it announces a grade release for an assignment, quiz, exam, or important information regarding the courses.\n",
    "\n",
    "Personal — only if the message is personally written to me and is NOT spam, automated, or promotional.\n",
    "\n",
    "Irrelevant — anything else.\n",
    "\n",
    "Respond with ONLY the category name.\"\"\"\n",
    "\n",
    "with open('raw_emails.csv', newline='', encoding='utf-8') as f_in, \\\n",
    "     open('train.jsonl', 'w', encoding='utf-8') as f_out:\n",
    "    reader = csv.DictReader(f_in)\n",
    "    for row in reader:\n",
    "        example = {\n",
    "            \"messages\": [\n",
    "                {\"role\": \"system\",    \"content\": prompt},\n",
    "                {\"role\": \"user\",      \"content\": row[\"text\"]},\n",
    "                {\"role\": \"assistant\", \"content\": row[\"label\"]}\n",
    "            ]\n",
    "        }\n",
    "        f_out.write(json.dumps(example) + \"\\n\")\n",
    "print(\"Generated train.jsonl\")"
   ]
  },
  {
   "cell_type": "code",
   "execution_count": null,
   "id": "22de7919-0d55-418c-9b74-5cd6bbff3ade",
   "metadata": {},
   "outputs": [],
   "source": []
  }
 ],
 "metadata": {
  "kernelspec": {
   "display_name": "Python [conda env:base] *",
   "language": "python",
   "name": "conda-base-py"
  },
  "language_info": {
   "codemirror_mode": {
    "name": "ipython",
    "version": 3
   },
   "file_extension": ".py",
   "mimetype": "text/x-python",
   "name": "python",
   "nbconvert_exporter": "python",
   "pygments_lexer": "ipython3",
   "version": "3.12.7"
  }
 },
 "nbformat": 4,
 "nbformat_minor": 5
}
